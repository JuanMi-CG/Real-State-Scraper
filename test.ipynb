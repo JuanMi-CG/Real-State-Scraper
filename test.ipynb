{
 "cells": [
  {
   "cell_type": "code",
   "execution_count": 6,
   "metadata": {},
   "outputs": [],
   "source": [
    "import axius\n",
    "import pandas as pd"
   ]
  },
  {
   "cell_type": "code",
   "execution_count": 7,
   "metadata": {},
   "outputs": [
    {
     "name": "stdout",
     "output_type": "stream",
     "text": [
      "Initialized a fresh new_properties file at axius\\new_properties.pkl.\n",
      "Skipping download: axius\\page_1.html already exists.\n",
      "Total Properties: 146\n",
      "----------------------------------------------------------------------------------------------------\n",
      "Scraping page 1/13...\n",
      "Skipping download: axius\\page_1.html already exists.\n",
      "Number of items: 12\n",
      "----------------------------------------------------------------------------------------------------\n",
      "Scraping page 2/13...\n",
      "Skipping download: axius\\page_2.html already exists.\n",
      "Number of items: 24\n",
      "----------------------------------------------------------------------------------------------------\n",
      "Scraping page 3/13...\n",
      "Skipping download: axius\\page_3.html already exists.\n",
      "Number of items: 36\n",
      "----------------------------------------------------------------------------------------------------\n",
      "Scraping page 4/13...\n",
      "Skipping download: axius\\page_4.html already exists.\n",
      "Number of items: 48\n",
      "----------------------------------------------------------------------------------------------------\n",
      "Scraping page 5/13...\n",
      "Skipping download: axius\\page_5.html already exists.\n",
      "Number of items: 60\n",
      "----------------------------------------------------------------------------------------------------\n",
      "Scraping page 6/13...\n",
      "Skipping download: axius\\page_6.html already exists.\n",
      "Number of items: 72\n",
      "----------------------------------------------------------------------------------------------------\n",
      "Scraping page 7/13...\n",
      "Skipping download: axius\\page_7.html already exists.\n",
      "Number of items: 84\n",
      "----------------------------------------------------------------------------------------------------\n",
      "Scraping page 8/13...\n",
      "Skipping download: axius\\page_8.html already exists.\n",
      "Number of items: 96\n",
      "----------------------------------------------------------------------------------------------------\n",
      "Scraping page 9/13...\n",
      "Skipping download: axius\\page_9.html already exists.\n",
      "Number of items: 108\n",
      "----------------------------------------------------------------------------------------------------\n",
      "Scraping page 10/13...\n",
      "Skipping download: axius\\page_10.html already exists.\n",
      "Number of items: 120\n",
      "----------------------------------------------------------------------------------------------------\n",
      "Scraping page 11/13...\n",
      "Skipping download: axius\\page_11.html already exists.\n",
      "Number of items: 132\n",
      "----------------------------------------------------------------------------------------------------\n",
      "Scraping page 12/13...\n",
      "Skipping download: axius\\page_12.html already exists.\n",
      "Number of items: 144\n",
      "----------------------------------------------------------------------------------------------------\n",
      "Scraping page 13/13...\n",
      "Skipping download: axius\\page_13.html already exists.\n",
      "Number of items: 146\n"
     ]
    }
   ],
   "source": [
    "axius.scrap_axius()"
   ]
  },
  {
   "cell_type": "code",
   "execution_count": 8,
   "metadata": {},
   "outputs": [],
   "source": [
    "# Load environment variables from .env file for local testing\n",
    "from dotenv import load_dotenv\n",
    "import os\n",
    "load_dotenv()\n",
    "\n",
    "df = pd.read_pickle(os.environ['NEW_PROPERTIES_PATH'])"
   ]
  },
  {
   "cell_type": "code",
   "execution_count": 9,
   "metadata": {},
   "outputs": [
    {
     "data": {
      "text/html": [
       "<div>\n",
       "<style scoped>\n",
       "    .dataframe tbody tr th:only-of-type {\n",
       "        vertical-align: middle;\n",
       "    }\n",
       "\n",
       "    .dataframe tbody tr th {\n",
       "        vertical-align: top;\n",
       "    }\n",
       "\n",
       "    .dataframe thead th {\n",
       "        text-align: right;\n",
       "    }\n",
       "</style>\n",
       "<table border=\"1\" class=\"dataframe\">\n",
       "  <thead>\n",
       "    <tr style=\"text-align: right;\">\n",
       "      <th></th>\n",
       "      <th>ref</th>\n",
       "      <th>price</th>\n",
       "      <th>url</th>\n",
       "    </tr>\n",
       "  </thead>\n",
       "  <tbody>\n",
       "    <tr>\n",
       "      <th>0</th>\n",
       "      <td>08235</td>\n",
       "      <td>8.500</td>\n",
       "      <td>https://arxus.es/ficha-inmueble/?cod_inmueble=...</td>\n",
       "    </tr>\n",
       "    <tr>\n",
       "      <th>1</th>\n",
       "      <td>08234</td>\n",
       "      <td>6.500</td>\n",
       "      <td>https://arxus.es/ficha-inmueble/?cod_inmueble=...</td>\n",
       "    </tr>\n",
       "    <tr>\n",
       "      <th>2</th>\n",
       "      <td>08211</td>\n",
       "      <td>40.000</td>\n",
       "      <td>https://arxus.es/ficha-inmueble/?cod_inmueble=...</td>\n",
       "    </tr>\n",
       "    <tr>\n",
       "      <th>3</th>\n",
       "      <td>08200</td>\n",
       "      <td>15.000</td>\n",
       "      <td>https://arxus.es/ficha-inmueble/?cod_inmueble=...</td>\n",
       "    </tr>\n",
       "    <tr>\n",
       "      <th>4</th>\n",
       "      <td>08198_homologo</td>\n",
       "      <td>33.500</td>\n",
       "      <td>https://arxus.es/ficha-inmueble/?cod_inmueble=...</td>\n",
       "    </tr>\n",
       "    <tr>\n",
       "      <th>...</th>\n",
       "      <td>...</td>\n",
       "      <td>...</td>\n",
       "      <td>...</td>\n",
       "    </tr>\n",
       "    <tr>\n",
       "      <th>141</th>\n",
       "      <td>IQ02336</td>\n",
       "      <td>35.000</td>\n",
       "      <td>https://arxus.es/ficha-inmueble/?cod_inmueble=...</td>\n",
       "    </tr>\n",
       "    <tr>\n",
       "      <th>142</th>\n",
       "      <td>106212</td>\n",
       "      <td>10.500</td>\n",
       "      <td>https://arxus.es/ficha-inmueble/?cod_inmueble=...</td>\n",
       "    </tr>\n",
       "    <tr>\n",
       "      <th>143</th>\n",
       "      <td>94035</td>\n",
       "      <td>2.500</td>\n",
       "      <td>https://arxus.es/ficha-inmueble/?cod_inmueble=...</td>\n",
       "    </tr>\n",
       "    <tr>\n",
       "      <th>144</th>\n",
       "      <td>80481</td>\n",
       "      <td>11.500</td>\n",
       "      <td>https://arxus.es/ficha-inmueble/?cod_inmueble=...</td>\n",
       "    </tr>\n",
       "    <tr>\n",
       "      <th>145</th>\n",
       "      <td>753</td>\n",
       "      <td>49.000</td>\n",
       "      <td>https://arxus.es/ficha-inmueble/?cod_inmueble=...</td>\n",
       "    </tr>\n",
       "  </tbody>\n",
       "</table>\n",
       "<p>146 rows × 3 columns</p>\n",
       "</div>"
      ],
      "text/plain": [
       "                ref   price                                                url\n",
       "0             08235   8.500  https://arxus.es/ficha-inmueble/?cod_inmueble=...\n",
       "1             08234   6.500  https://arxus.es/ficha-inmueble/?cod_inmueble=...\n",
       "2             08211  40.000  https://arxus.es/ficha-inmueble/?cod_inmueble=...\n",
       "3             08200  15.000  https://arxus.es/ficha-inmueble/?cod_inmueble=...\n",
       "4    08198_homologo  33.500  https://arxus.es/ficha-inmueble/?cod_inmueble=...\n",
       "..              ...     ...                                                ...\n",
       "141         IQ02336  35.000  https://arxus.es/ficha-inmueble/?cod_inmueble=...\n",
       "142          106212  10.500  https://arxus.es/ficha-inmueble/?cod_inmueble=...\n",
       "143           94035   2.500  https://arxus.es/ficha-inmueble/?cod_inmueble=...\n",
       "144           80481  11.500  https://arxus.es/ficha-inmueble/?cod_inmueble=...\n",
       "145             753  49.000  https://arxus.es/ficha-inmueble/?cod_inmueble=...\n",
       "\n",
       "[146 rows x 3 columns]"
      ]
     },
     "execution_count": 9,
     "metadata": {},
     "output_type": "execute_result"
    }
   ],
   "source": [
    "df"
   ]
  },
  {
   "cell_type": "code",
   "execution_count": 10,
   "metadata": {},
   "outputs": [
    {
     "data": {
      "text/plain": [
       "False"
      ]
     },
     "execution_count": 10,
     "metadata": {},
     "output_type": "execute_result"
    }
   ],
   "source": [
    "df.empty"
   ]
  },
  {
   "cell_type": "code",
   "execution_count": null,
   "metadata": {},
   "outputs": [],
   "source": []
  }
 ],
 "metadata": {
  "language_info": {
   "name": "python"
  }
 },
 "nbformat": 4,
 "nbformat_minor": 2
}
