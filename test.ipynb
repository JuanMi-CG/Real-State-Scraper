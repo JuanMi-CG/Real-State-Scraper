{
 "cells": [
  {
   "cell_type": "code",
   "execution_count": 21,
   "metadata": {},
   "outputs": [],
   "source": [
    "import pandas as pd\n",
    "from ctools import cscrap"
   ]
  },
  {
   "cell_type": "code",
   "execution_count": 22,
   "metadata": {},
   "outputs": [
    {
     "name": "stdout",
     "output_type": "stream",
     "text": [
      "Longitud properties: 294\n",
      "Longitud new properties: 0\n"
     ]
    }
   ],
   "source": [
    "df = pd.read_pickle('results/properties.pkl')\n",
    "print(f'Longitud properties: {len(df)}')\n",
    "df_new = pd.read_pickle('results/new_properties.pkl')\n",
    "print(f'Longitud new properties: {len(df_new)}')"
   ]
  },
  {
   "cell_type": "code",
   "execution_count": 23,
   "metadata": {},
   "outputs": [
    {
     "name": "stdout",
     "output_type": "stream",
     "text": [
      "Cantidad inicial de registros:\n",
      "294\n",
      "Cantidad final de registros:\n",
      "288\n"
     ]
    }
   ],
   "source": [
    "import pandas as pd\n",
    "\n",
    "# Cargar el DataFrame desde el archivo pickle\n",
    "df = pd.read_pickle('results/properties.pkl')\n",
    "print(\"Cantidad inicial de registros:\", len(df))\n",
    "\n",
    "# Agrupar por la columna de inmobiliarias y eliminar 3 registros de cada grupo\n",
    "for name, group in df.groupby('inmobiliaria'):\n",
    "    if len(group) > 3:  # Verificar que haya al menos 3 registros\n",
    "        # Seleccionar los 3 primeros registros del grupo para eliminar\n",
    "        to_delete = group.iloc[:3].index\n",
    "        \n",
    "        # Eliminar los registros del DataFrame original\n",
    "        df = df.drop(to_delete)\n",
    "\n",
    "# Guardar el DataFrame actualizado en un archivo pickle\n",
    "df.to_pickle('results/properties.pkl')\n",
    "print(\"Cantidad final de registros:\", len(df))\n"
   ]
  },
  {
   "cell_type": "code",
   "execution_count": 24,
   "metadata": {},
   "outputs": [
    {
     "name": "stdout",
     "output_type": "stream",
     "text": [
      "Longitud properties: 288\n"
     ]
    }
   ],
   "source": [
    "df = pd.read_pickle('results/properties.pkl')\n",
    "print(f'Longitud properties: {len(df)}')"
   ]
  },
  {
   "cell_type": "code",
   "execution_count": null,
   "metadata": {},
   "outputs": [],
   "source": []
  }
 ],
 "metadata": {
  "kernelspec": {
   "display_name": "venv",
   "language": "python",
   "name": "python3"
  },
  "language_info": {
   "codemirror_mode": {
    "name": "ipython",
    "version": 3
   },
   "file_extension": ".py",
   "mimetype": "text/x-python",
   "name": "python",
   "nbconvert_exporter": "python",
   "pygments_lexer": "ipython3",
   "version": "3.12.6"
  }
 },
 "nbformat": 4,
 "nbformat_minor": 2
}
