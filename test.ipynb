{
 "cells": [
  {
   "cell_type": "code",
   "execution_count": 1,
   "metadata": {},
   "outputs": [],
   "source": [
    "import axius\n",
    "import pandas as pd\n",
    "import time_lapse\n",
    "import os"
   ]
  },
  {
   "cell_type": "code",
   "execution_count": 2,
   "metadata": {},
   "outputs": [
    {
     "data": {
      "text/html": [
       "<div>\n",
       "<style scoped>\n",
       "    .dataframe tbody tr th:only-of-type {\n",
       "        vertical-align: middle;\n",
       "    }\n",
       "\n",
       "    .dataframe tbody tr th {\n",
       "        vertical-align: top;\n",
       "    }\n",
       "\n",
       "    .dataframe thead th {\n",
       "        text-align: right;\n",
       "    }\n",
       "</style>\n",
       "<table border=\"1\" class=\"dataframe\">\n",
       "  <thead>\n",
       "    <tr style=\"text-align: right;\">\n",
       "      <th></th>\n",
       "      <th>ref</th>\n",
       "      <th>price</th>\n",
       "      <th>url</th>\n",
       "    </tr>\n",
       "  </thead>\n",
       "  <tbody>\n",
       "    <tr>\n",
       "      <th>0</th>\n",
       "      <td>08235</td>\n",
       "      <td>8.500</td>\n",
       "      <td>https://arxus.es/ficha-inmueble/?cod_inmueble=...</td>\n",
       "    </tr>\n",
       "    <tr>\n",
       "      <th>1</th>\n",
       "      <td>08234</td>\n",
       "      <td>6.500</td>\n",
       "      <td>https://arxus.es/ficha-inmueble/?cod_inmueble=...</td>\n",
       "    </tr>\n",
       "    <tr>\n",
       "      <th>2</th>\n",
       "      <td>08211</td>\n",
       "      <td>40.000</td>\n",
       "      <td>https://arxus.es/ficha-inmueble/?cod_inmueble=...</td>\n",
       "    </tr>\n",
       "    <tr>\n",
       "      <th>3</th>\n",
       "      <td>08200</td>\n",
       "      <td>15.000</td>\n",
       "      <td>https://arxus.es/ficha-inmueble/?cod_inmueble=...</td>\n",
       "    </tr>\n",
       "    <tr>\n",
       "      <th>4</th>\n",
       "      <td>08198_homologo</td>\n",
       "      <td>33.500</td>\n",
       "      <td>https://arxus.es/ficha-inmueble/?cod_inmueble=...</td>\n",
       "    </tr>\n",
       "    <tr>\n",
       "      <th>...</th>\n",
       "      <td>...</td>\n",
       "      <td>...</td>\n",
       "      <td>...</td>\n",
       "    </tr>\n",
       "    <tr>\n",
       "      <th>115</th>\n",
       "      <td>IQ02770</td>\n",
       "      <td>45.000</td>\n",
       "      <td>https://arxus.es/ficha-inmueble/?cod_inmueble=...</td>\n",
       "    </tr>\n",
       "    <tr>\n",
       "      <th>116</th>\n",
       "      <td>EXP.497_PBVTA</td>\n",
       "      <td>32.000</td>\n",
       "      <td>https://arxus.es/ficha-inmueble/?cod_inmueble=...</td>\n",
       "    </tr>\n",
       "    <tr>\n",
       "      <th>117</th>\n",
       "      <td>540328</td>\n",
       "      <td>23.000</td>\n",
       "      <td>https://arxus.es/ficha-inmueble/?cod_inmueble=...</td>\n",
       "    </tr>\n",
       "    <tr>\n",
       "      <th>118</th>\n",
       "      <td>EXP.496_PBVTA</td>\n",
       "      <td>18.000</td>\n",
       "      <td>https://arxus.es/ficha-inmueble/?cod_inmueble=...</td>\n",
       "    </tr>\n",
       "    <tr>\n",
       "      <th>119</th>\n",
       "      <td>EXP.495_PBVTA</td>\n",
       "      <td>45.000</td>\n",
       "      <td>https://arxus.es/ficha-inmueble/?cod_inmueble=...</td>\n",
       "    </tr>\n",
       "  </tbody>\n",
       "</table>\n",
       "<p>120 rows × 3 columns</p>\n",
       "</div>"
      ],
      "text/plain": [
       "                ref   price                                                url\n",
       "0             08235   8.500  https://arxus.es/ficha-inmueble/?cod_inmueble=...\n",
       "1             08234   6.500  https://arxus.es/ficha-inmueble/?cod_inmueble=...\n",
       "2             08211  40.000  https://arxus.es/ficha-inmueble/?cod_inmueble=...\n",
       "3             08200  15.000  https://arxus.es/ficha-inmueble/?cod_inmueble=...\n",
       "4    08198_homologo  33.500  https://arxus.es/ficha-inmueble/?cod_inmueble=...\n",
       "..              ...     ...                                                ...\n",
       "115         IQ02770  45.000  https://arxus.es/ficha-inmueble/?cod_inmueble=...\n",
       "116   EXP.497_PBVTA  32.000  https://arxus.es/ficha-inmueble/?cod_inmueble=...\n",
       "117          540328  23.000  https://arxus.es/ficha-inmueble/?cod_inmueble=...\n",
       "118   EXP.496_PBVTA  18.000  https://arxus.es/ficha-inmueble/?cod_inmueble=...\n",
       "119   EXP.495_PBVTA  45.000  https://arxus.es/ficha-inmueble/?cod_inmueble=...\n",
       "\n",
       "[120 rows x 3 columns]"
      ]
     },
     "execution_count": 2,
     "metadata": {},
     "output_type": "execute_result"
    }
   ],
   "source": [
    "pd.read_pickle('axius/properties.pkl')"
   ]
  },
  {
   "cell_type": "code",
   "execution_count": 6,
   "metadata": {},
   "outputs": [
    {
     "data": {
      "text/plain": [
       "True"
      ]
     },
     "execution_count": 6,
     "metadata": {},
     "output_type": "execute_result"
    }
   ],
   "source": [
    "# Load environment variables from .env file for local testing\n",
    "from dotenv import load_dotenv\n",
    "load_dotenv(override=True)"
   ]
  },
  {
   "cell_type": "code",
   "execution_count": 7,
   "metadata": {},
   "outputs": [
    {
     "data": {
      "text/plain": [
       "'davidrubiolab@gmail.com, marticarles26@gmail.com, jm.coll.gonzalez@gmail.com'"
      ]
     },
     "execution_count": 7,
     "metadata": {},
     "output_type": "execute_result"
    }
   ],
   "source": [
    "os.environ['EMAIL_RECEIVER']"
   ]
  },
  {
   "cell_type": "code",
   "execution_count": null,
   "metadata": {},
   "outputs": [],
   "source": [
    "\n",
    "\n",
    "df = pd.read_pickle(os.environ['NEW_PROPERTIES_PATH'])"
   ]
  },
  {
   "cell_type": "code",
   "execution_count": null,
   "metadata": {},
   "outputs": [],
   "source": [
    "df"
   ]
  },
  {
   "cell_type": "code",
   "execution_count": null,
   "metadata": {},
   "outputs": [],
   "source": [
    "df.empty"
   ]
  },
  {
   "cell_type": "code",
   "execution_count": null,
   "metadata": {},
   "outputs": [],
   "source": []
  }
 ],
 "metadata": {
  "kernelspec": {
   "display_name": "venv",
   "language": "python",
   "name": "python3"
  },
  "language_info": {
   "codemirror_mode": {
    "name": "ipython",
    "version": 3
   },
   "file_extension": ".py",
   "mimetype": "text/x-python",
   "name": "python",
   "nbconvert_exporter": "python",
   "pygments_lexer": "ipython3",
   "version": "3.12.6"
  }
 },
 "nbformat": 4,
 "nbformat_minor": 2
}
